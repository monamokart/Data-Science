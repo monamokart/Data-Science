{
 "cells": [
  {
   "cell_type": "code",
   "execution_count": 2,
   "metadata": {},
   "outputs": [],
   "source": [
    "import numpy as np\n",
    "import matplotlib.pyplot as plt\n",
    "\n",
    "def load_breastcancer(filename):\n",
    "    \"\"\"\n",
    "    Cette fonction lit le fichier filename, par exemple\n",
    "    filename = 'wdbc_M1_B0.data'\n",
    "    Elle retourne \n",
    "    X : une matrice de caracteristiques\n",
    "    y : un vecteur des classes tel que si y[i] = 1, la tumeur est maligne\n",
    "        et si y[i] = -1, la tumeur est benigne\n",
    "\n",
    "    Pour plus d'infos sur la base de donnees,\n",
    "    https://archive.ics.uci.edu/ml/datasets/Breast+Cancer+Wisconsin+%28Prognostic%29\n",
    "    \"\"\"\n",
    "\n",
    "    data = np.loadtxt(filename, delimiter=',')\n",
    "\n",
    "    # la colonne 0 ne nous interesse pas ici\n",
    "    y = data[:, 1] * 2 - 1\n",
    "    X = data[:, 2:]\n",
    "\n",
    "    # Standardisation de la matrice\n",
    "    X = X - np.mean(X, axis=0)\n",
    "    X = X / np.std(X, axis=0)\n",
    "\n",
    "    return X, y\n"
   ]
  },
  {
   "cell_type": "code",
   "execution_count": 3,
   "metadata": {},
   "outputs": [
    {
     "name": "stdout",
     "output_type": "stream",
     "text": [
      "[[ 1.09706398 -2.07333501  1.26993369 ...  2.29607613  2.75062224\n",
      "   1.93701461]\n",
      " [ 1.82982061 -0.35363241  1.68595471 ...  1.0870843  -0.24388967\n",
      "   0.28118999]\n",
      " [ 1.57988811  0.45618695  1.56650313 ...  1.95500035  1.152255\n",
      "   0.20139121]\n",
      " ...\n",
      " [ 0.70228425  2.0455738   0.67267578 ...  0.41406869 -1.10454895\n",
      "  -0.31840916]\n",
      " [ 1.83834103  2.33645719  1.98252415 ...  2.28998549  1.91908301\n",
      "   2.21963528]\n",
      " [-1.80840125  1.22179204 -1.81438851 ... -1.74506282 -0.04813821\n",
      "  -0.75120669]] [ 1.  1.  1.  1.  1.  1.  1.  1.  1.  1.  1.  1.  1.  1.  1.  1.  1.  1.\n",
      "  1. -1. -1. -1.  1.  1.  1.  1.  1.  1.  1.  1.  1.  1.  1.  1.  1.  1.\n",
      "  1. -1.  1.  1.  1.  1.  1.  1.  1.  1. -1.  1. -1. -1. -1. -1. -1.  1.\n",
      "  1. -1.  1.  1. -1. -1. -1. -1.  1. -1.  1.  1. -1. -1. -1. -1.  1. -1.\n",
      "  1.  1. -1.  1. -1.  1.  1. -1. -1. -1.  1.  1. -1.  1.  1.  1. -1. -1.\n",
      " -1.  1. -1. -1.  1.  1. -1. -1. -1.  1.  1. -1. -1. -1. -1.  1. -1. -1.\n",
      "  1. -1. -1. -1. -1. -1. -1. -1. -1.  1.  1.  1. -1.  1.  1. -1. -1. -1.\n",
      "  1.  1. -1.  1. -1.  1.  1. -1.  1.  1. -1. -1.  1. -1. -1.  1. -1. -1.\n",
      " -1. -1.  1. -1. -1. -1. -1. -1. -1. -1. -1. -1.  1. -1. -1. -1. -1.  1.\n",
      "  1. -1.  1. -1. -1.  1.  1. -1. -1.  1.  1. -1. -1. -1. -1.  1. -1. -1.\n",
      "  1.  1.  1. -1.  1. -1.  1. -1. -1. -1.  1. -1. -1.  1.  1. -1.  1.  1.\n",
      "  1.  1. -1.  1.  1.  1. -1.  1. -1.  1. -1. -1.  1. -1.  1.  1.  1.  1.\n",
      " -1. -1.  1.  1. -1. -1. -1.  1. -1. -1. -1. -1. -1.  1.  1. -1. -1.  1.\n",
      " -1. -1.  1.  1. -1.  1. -1. -1. -1. -1.  1. -1. -1. -1. -1. -1.  1. -1.\n",
      "  1.  1.  1.  1.  1.  1.  1.  1.  1.  1.  1.  1.  1.  1. -1. -1. -1. -1.\n",
      " -1. -1.  1. -1.  1. -1. -1.  1. -1. -1.  1. -1.  1.  1. -1. -1. -1. -1.\n",
      " -1. -1. -1. -1. -1. -1. -1. -1. -1.  1. -1. -1.  1. -1.  1. -1. -1. -1.\n",
      " -1. -1. -1. -1. -1. -1. -1. -1. -1. -1. -1.  1. -1. -1. -1.  1. -1.  1.\n",
      " -1. -1. -1. -1.  1.  1.  1. -1. -1. -1. -1.  1. -1.  1. -1.  1. -1. -1.\n",
      " -1.  1. -1. -1. -1. -1. -1. -1. -1.  1.  1.  1. -1. -1. -1. -1. -1. -1.\n",
      " -1. -1. -1. -1. -1.  1.  1. -1.  1.  1.  1. -1.  1.  1. -1. -1. -1. -1.\n",
      " -1.  1. -1. -1. -1. -1. -1.  1. -1. -1. -1.  1. -1. -1.  1.  1. -1. -1.\n",
      " -1. -1. -1. -1.  1. -1. -1. -1. -1. -1. -1. -1.  1. -1. -1. -1. -1. -1.\n",
      "  1. -1. -1.  1. -1. -1. -1. -1. -1. -1. -1. -1. -1. -1. -1. -1.  1. -1.\n",
      "  1.  1. -1.  1. -1. -1. -1. -1. -1.  1. -1. -1.  1. -1.  1. -1. -1.  1.\n",
      " -1.  1. -1. -1. -1. -1. -1. -1. -1. -1.  1.  1. -1. -1. -1. -1. -1. -1.\n",
      "  1. -1. -1. -1. -1. -1. -1. -1. -1. -1. -1.  1. -1. -1. -1. -1. -1. -1.\n",
      " -1.  1. -1.  1. -1. -1.  1. -1. -1. -1. -1. -1.  1.  1. -1.  1. -1.  1.\n",
      " -1. -1. -1. -1. -1.  1. -1. -1.  1. -1.  1. -1.  1.  1. -1. -1. -1.  1.\n",
      " -1. -1. -1. -1. -1. -1. -1. -1. -1. -1. -1.  1. -1.  1.  1. -1. -1. -1.\n",
      " -1. -1. -1. -1. -1. -1. -1. -1. -1. -1. -1. -1. -1. -1. -1. -1. -1. -1.\n",
      " -1. -1. -1. -1.  1.  1.  1.  1.  1.  1. -1.]\n",
      "(569, 30) (569,)\n"
     ]
    }
   ],
   "source": [
    "X,y = load_breastcancer('wdbc_M1_B0.data')\n",
    "print(X,y)\n",
    "print(X.shape,y.shape)"
   ]
  },
  {
   "cell_type": "markdown",
   "metadata": {},
   "source": [
    "# Question 2.2"
   ]
  },
  {
   "cell_type": "code",
   "execution_count": 3,
   "metadata": {},
   "outputs": [
    {
     "data": {
      "text/plain": [
       "[<matplotlib.lines.Line2D at 0x1fe559451c0>]"
      ]
     },
     "execution_count": 3,
     "metadata": {},
     "output_type": "execute_result"
    },
    {
     "data": {
      "image/png": "[encoded data removed]",
      "text/plain": [
       "<Figure size 432x288 with 1 Axes>"
      ]
     },
     "metadata": {
      "needs_background": "light"
     },
     "output_type": "display_data"
    }
   ],
   "source": [
    "def h(z):\n",
    "    zeros = np.zeros(z.shape)\n",
    "    return np.maximum(np.ones(z.shape)-z,zeros)\n",
    "\n",
    "x=np.arange(-20,20,1)\n",
    "\n",
    "\n",
    "for i in [-1,-0.75,-0.5,-0.25,0]:\n",
    "    plt.plot(x,i*(x-1),\"r--\",c='r')\n",
    "plt.plot(x,h(x))"
   ]
  },
  {
   "cell_type": "markdown",
   "metadata": {},
   "source": [
    "# Question 2.4"
   ]
  },
  {
   "cell_type": "code",
   "execution_count": 26,
   "metadata": {},
   "outputs": [],
   "source": [
    "def f(va,c):\n",
    "    return N(va)+c*H(M@va)\n",
    "\n",
    "def N(va):\n",
    "    return 0.5*np.sum((va**2)[:-1])\n",
    "\n",
    "def H(z):\n",
    "    return np.sum(h(z))\n",
    "\n",
    "\n",
    "D = np.diag(y)\n",
    "Un=np.ones(y.shape)\n",
    "Un=Un.reshape((len(y),1))\n",
    "M=D@(np.concatenate((X,Un),axis=1))"
   ]
  },
  {
   "cell_type": "code",
   "execution_count": 5,
   "metadata": {},
   "outputs": [],
   "source": [
    "def df(va,c):\n",
    "    return dN(va)+c*(M.T)@dH(M@va)\n",
    "\n",
    "def dN(va):\n",
    "    dN=va.copy()\n",
    "    dN[-1]=0\n",
    "    return dN\n",
    "\n",
    "def dH(z):\n",
    "    dH=np.zeros(z.shape)\n",
    "    for i in range(len(z)):\n",
    "        if z[i]<1:\n",
    "            dH[i]=-1\n",
    "        elif z[i]>1:\n",
    "            dH[i]=0\n",
    "        else:\n",
    "            dH[i]=-0.5\n",
    "    return dH\n",
    "\n",
    "        "
   ]
  },
  {
   "cell_type": "markdown",
   "metadata": {},
   "source": [
    "# Question 2.5"
   ]
  },
  {
   "cell_type": "code",
   "execution_count": 7,
   "metadata": {},
   "outputs": [],
   "source": [
    "def subgradient_descent(va0,f,df,maxiter,c):\n",
    "    gamma=1\n",
    "    vak=va0.copy()\n",
    "    k=0\n",
    "    num=gamma*vak\n",
    "    den=gamma\n",
    "    \n",
    "    while k <maxiter:\n",
    "        vak= vak - gamma*df(vak,c)\n",
    "        k+=1\n",
    "        gamma=1/(k+1)**0.5\n",
    "        num+=gamma*vak\n",
    "        den+=gamma\n",
    "    return num/den, f(num/den,c)"
   ]
  },
  {
   "cell_type": "code",
   "execution_count": 157,
   "metadata": {},
   "outputs": [
    {
     "data": {
      "text/plain": [
       "(array([[ 43.17358043],\n",
       "        [ 28.7770921 ],\n",
       "        [ 43.47786451],\n",
       "        [ 40.63312209],\n",
       "        [ 19.66441727],\n",
       "        [ 29.33206429],\n",
       "        [ 36.31432631],\n",
       "        [ 43.01954602],\n",
       "        [ 15.18353011],\n",
       "        [ -7.49085505],\n",
       "        [ 32.06516856],\n",
       "        [ -1.53391041],\n",
       "        [ 30.07183345],\n",
       "        [ 30.28856825],\n",
       "        [ -6.24658641],\n",
       "        [  9.05674545],\n",
       "        [  8.65730711],\n",
       "        [ 20.6878028 ],\n",
       "        [ -5.62962008],\n",
       "        [ -4.00162664],\n",
       "        [ 46.07605025],\n",
       "        [ 32.69925487],\n",
       "        [ 45.71442434],\n",
       "        [ 41.97818811],\n",
       "        [ 24.90405501],\n",
       "        [ 30.60383199],\n",
       "        [ 36.28253981],\n",
       "        [ 45.68225109],\n",
       "        [ 24.70297221],\n",
       "        [ 14.85952399],\n",
       "        [-51.80575915]]),\n",
       " 16988.99230539738)"
      ]
     },
     "execution_count": 157,
     "metadata": {},
     "output_type": "execute_result"
    }
   ],
   "source": [
    "va0=np.zeros((X.shape[1]+1,1))\n",
    "subgradient_descent(va0,f,df,10000,1)"
   ]
  },
  {
   "cell_type": "code",
   "execution_count": 13,
   "metadata": {},
   "outputs": [
    {
     "data": {
      "text/plain": [
       "array([-38.73829648, -20.70475549, -34.49379607, -34.9876155 ,\n",
       "        38.59618269,  45.35166232,  23.55585667,   1.95675574,\n",
       "        36.5927392 ,  89.42902745,  -6.13062046,  28.6170554 ,\n",
       "         0.18689247, -13.53182243,  59.92957203,  84.51089819,\n",
       "        72.68924277,  60.05022852,  41.47511889,  99.88454603,\n",
       "       -39.4982886 , -27.61455329, -34.31830559, -34.37001474,\n",
       "        18.65124737,  28.15298039,  20.26382933,  -2.07793185,\n",
       "        -2.28514378,  55.68259705,  26.        ])"
      ]
     },
     "execution_count": 13,
     "metadata": {},
     "output_type": "execute_result"
    }
   ],
   "source": [
    "df(np.ones(X.shape[1]+1),1)"
   ]
  },
  {
   "cell_type": "markdown",
   "metadata": {},
   "source": [
    "# Question 3.3"
   ]
  },
  {
   "cell_type": "code",
   "execution_count": 210,
   "metadata": {},
   "outputs": [],
   "source": [
    "def dh(z):\n",
    "    if z<1:\n",
    "        return -1\n",
    "    elif z>1:\n",
    "        return 0\n",
    "    else:\n",
    "        return -0.5\n",
    "\n",
    "def dfi(va,c,i,n):\n",
    "    return dN(va)+(c*n*M[i].T*dH(M[i]@va)).reshape((len(va),1))\n",
    "\n",
    "def SGD(va0,f,df,maxiter,c):\n",
    "    gamma=1\n",
    "    vak=va0.copy()\n",
    "    k=0\n",
    "    n=len(X)\n",
    "    \n",
    "    while k <maxiter:\n",
    "        i=np.random.randint(n)\n",
    "        vak= vak - gamma*dfi(vak,c,i,n)\n",
    "        k+=1\n",
    "        gamma=1/(k+1)**0.5\n",
    "    return vak, f(vak,c)"
   ]
  },
  {
   "cell_type": "code",
   "execution_count": 212,
   "metadata": {},
   "outputs": [
    {
     "data": {
      "text/plain": [
       "(array([[ 10.28432979],\n",
       "        [ 17.17069243],\n",
       "        [ 10.50099694],\n",
       "        [ 10.68058103],\n",
       "        [  1.09322034],\n",
       "        [ 11.0709997 ],\n",
       "        [ 21.79627011],\n",
       "        [ 16.97122161],\n",
       "        [  1.09447461],\n",
       "        [  6.37333463],\n",
       "        [ 14.77804611],\n",
       "        [-12.16899627],\n",
       "        [  7.3660946 ],\n",
       "        [ 10.57517168],\n",
       "        [ -8.33382646],\n",
       "        [  9.64161466],\n",
       "        [  7.3798687 ],\n",
       "        [ -3.0947364 ],\n",
       "        [ 18.2288415 ],\n",
       "        [  2.31298888],\n",
       "        [ 15.14743039],\n",
       "        [ 10.86474646],\n",
       "        [ 13.20490744],\n",
       "        [ 12.87284393],\n",
       "        [  8.21178668],\n",
       "        [ 18.88621946],\n",
       "        [ 23.54204536],\n",
       "        [ 18.69862396],\n",
       "        [ 27.46348508],\n",
       "        [ 21.61109788],\n",
       "        [ -9.94189803]]),\n",
       " 6702.669362534851)"
      ]
     },
     "execution_count": 212,
     "metadata": {},
     "output_type": "execute_result"
    }
   ],
   "source": [
    "va0=np.zeros((X.shape[1]+1,1))\n",
    "SGD(va0,f,df,10000,1)"
   ]
  },
  {
   "cell_type": "code",
   "execution_count": 193,
   "metadata": {},
   "outputs": [
    {
     "data": {
      "text/plain": [
       "array([-1.])"
      ]
     },
     "execution_count": 193,
     "metadata": {},
     "output_type": "execute_result"
    }
   ],
   "source": [
    "dH(M[0]@va0)"
   ]
  },
  {
   "cell_type": "markdown",
   "metadata": {},
   "source": [
    "# Question 4.3"
   ]
  },
  {
   "cell_type": "markdown",
   "metadata": {},
   "source": [
    "On sait que $\\nabla_xg(x,\\Phi) = \\rho \\mbox{max}(0,x+\\frac{\\Phi}{\\rho})$ et $\\nabla_\\Phi g(x,\\Phi) = \\mbox{max}(-\\frac{\\Phi}{\\rho},x)$\n",
    "\n",
    "En les traçant on peut voir que ces deux fonctions sont convexes et leurs sous-différentielles sont :\n",
    "$$\n",
    " \\left\\{\n",
    "    \\begin{array}{ll}\n",
    "        0 & \\mbox{si } x+\\frac{\\Phi}{\\rho} <0 \\\\\n",
    "        [0,\\rho] & \\mbox{si }  x+\\frac{\\Phi}{\\rho}=0 \\\\\n",
    "        \\rho & \\mbox{si } x+\\frac{\\Phi}{\\rho}>0\n",
    "    \\end{array}\n",
    "\\right.\n",
    "\\mbox{ Pour } \\nabla_xg(x,\\Phi)\n",
    "$$\n",
    "\n",
    "et \n",
    "\n",
    "$$\n",
    " \\left\\{\n",
    "    \\begin{array}{ll}\n",
    "        \\frac{-1}{\\rho} & \\mbox{si } x+\\frac{\\Phi}{\\rho} <0 \\\\\n",
    "        [\\frac{-1}{\\rho},0] & \\mbox{si }  x+\\frac{\\Phi}{\\rho}=0 \\\\\n",
    "        0 & \\mbox{si } x+\\frac{\\Phi}{\\rho}>0\n",
    "    \\end{array}\n",
    "\\right.\n",
    "\\mbox{ Pour } \\nabla_\\Phi g(x,\\Phi)\n",
    "$$"
   ]
  },
  {
   "cell_type": "markdown",
   "metadata": {},
   "source": [
    "$\\rho$ étant strictement positif, ainsi :\n",
    "\n",
    "$x \\mapsto g(x,\\phi)$ a une dérivée seconde positive pour tout $\\Phi$, elle est donc convexe. \n",
    "\n",
    "$\\Phi \\mapsto g(x,\\phi)$ a une dérivée seconde négative pour tout $x$, elle est donc concave."
   ]
  },
  {
   "cell_type": "markdown",
   "metadata": {},
   "source": [
    "# Question 4.4"
   ]
  },
  {
   "cell_type": "code",
   "execution_count": 57,
   "metadata": {},
   "outputs": [],
   "source": [
    "c=1\n",
    "\n",
    "#def g(x,phi):\n",
    "#    return -phi**2/(2*rho)+rho/2*(np.maximum(np.zeros(x.shape),x+phi/rho))**2\n",
    "\n",
    "def dg_x(x,phi):\n",
    "    return 2*np.maximum(np.zeros(x.shape),x+phi/2)\n",
    "\n",
    "#def L(v,a,ksi,phi,psi):\n",
    "#    return 0.5*np.linalg.norm(v)**2 +np.sum(g(-ksi,phi))+np.sum(g(1-ksi-D@(X@v+a)))\n",
    "    \n",
    "def gradient_desc_L(v0,a0,ksi0,phi,psi,gamma):\n",
    "    #initialisation\n",
    "    vk=v0.copy()\n",
    "    ak=a0\n",
    "    ksik=ksi0.copy()\n",
    "    dL_v = vk - (X.T)@D@dg_x(1-ksik-D@(X@vk+ak),psi)\n",
    "    dL_a = -np.sum(y*dg_x(1-ksik-D@(X@vk+ak),psi))\n",
    "    dL_ksi= c-dg_x(-ksik,phi)-dg_x(1-ksik-D@(X@vk+ak),psi)\n",
    "    d=(np.sum(dL_v**2)+dL_a**2+np.sum(dL_ksi**2))**0.5\n",
    "    \n",
    "    while d >1:\n",
    "        dL_v = vk - X.T@D@dg_x(1-ksik-D@(X@vk+ak),psi)\n",
    "        dL_a = -np.sum(y*dg_x(1-ksik-D@(X@vk+ak),psi))\n",
    "        dL_ksi= c-dg_x(-ksik,phi)-dg_x(1-ksik-D@(X@vk+ak),psi)\n",
    "        \n",
    "        vk=vk-  gamma*dL_v\n",
    "        ak=ak-gamma*dL_a\n",
    "        ksik=ksik - gamma*dL_ksi\n",
    "        \n",
    "        d = (np.sum(dL_v**2)+dL_a**2+np.sum(dL_ksi**2))**0.5\n",
    "    return vk, ak, ksik\n"
   ]
  },
  {
   "cell_type": "markdown",
   "metadata": {},
   "source": [
    "# Question 4.5"
   ]
  },
  {
   "cell_type": "code",
   "execution_count": 58,
   "metadata": {},
   "outputs": [],
   "source": [
    "def dg_phi(x,phi):\n",
    "    return np.maximum(-phi/2,x)\n",
    "\n",
    "def dL_phi_psi(v2,a2,ksi2,phi,psi):\n",
    "    dL_phi = dg_phi(-ksi2,phi)\n",
    "    dL_psi = dg_phi(1-ksi2-D@(X@v2+a2),psi)\n",
    "    return dL_phi,dL_psi"
   ]
  },
  {
   "cell_type": "markdown",
   "metadata": {},
   "source": [
    "# Question 4.6"
   ]
  },
  {
   "cell_type": "code",
   "execution_count": 61,
   "metadata": {},
   "outputs": [],
   "source": [
    "def lagrangien_aug(v0,a0,ksi0,phi0,psi0,max_iter):\n",
    "    v_init,a_init,ksi_init=v0.copy(),a0,ksi0.copy()\n",
    "    phi,psi=phi0.copy(),psi0.copy()\n",
    "    for k in range(max_iter):\n",
    "        v,a,ksi = gradient_desc_L(v_init,a_init,ksi_init,phi,psi,0.001)\n",
    "        \n",
    "        dL_phi,dL_psi = dL_phi_psi(v,a,ksi,phi,psi)\n",
    "        phi = phi +2*dL_phi\n",
    "        psi=psi+2*dL_psi\n",
    "    return v,a,ksi,phi,psi"
   ]
  },
  {
   "cell_type": "code",
   "execution_count": 62,
   "metadata": {},
   "outputs": [],
   "source": [
    "v0 = np.zeros((X.shape[1],))\n",
    "a0 = 0\n",
    "ksi0 = np.zeros((X.shape[0],))\n",
    "phi0 = np.zeros((X.shape[0],))\n",
    "psi0 = np.zeros((X.shape[0],))\n",
    "c=1\n",
    "v,a,ksi,phi,psi= lagrangien_aug(v0,a0,ksi0,phi0,psi0,2000)"
   ]
  },
  {
   "cell_type": "code",
   "execution_count": 63,
   "metadata": {},
   "outputs": [],
   "source": [
    "def f(v,ksi):\n",
    "    return 0.5*np.sum(v**2) + c*np.sum(ksi)"
   ]
  },
  {
   "cell_type": "code",
   "execution_count": 64,
   "metadata": {},
   "outputs": [
    {
     "data": {
      "text/plain": [
       "27.023794859370135"
      ]
     },
     "execution_count": 64,
     "metadata": {},
     "output_type": "execute_result"
    }
   ],
   "source": [
    "f(v,ksi)"
   ]
  },
  {
   "cell_type": "code",
   "execution_count": null,
   "metadata": {},
   "outputs": [],
   "source": []
  }
 ],
 "metadata": {
  "kernelspec": {
   "display_name": "Python 3",
   "language": "python",
   "name": "python3"
  },
  "language_info": {
   "codemirror_mode": {
    "name": "ipython",
    "version": 3
   },
   "file_extension": ".py",
   "mimetype": "text/x-python",
   "name": "python",
   "nbconvert_exporter": "python",
   "pygments_lexer": "ipython3",
   "version": "3.8.3"
  }
 },
 "nbformat": 4,
 "nbformat_minor": 4
}
