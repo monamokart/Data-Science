{
 "cells": [
  {
   "cell_type": "markdown",
   "metadata": {},
   "source": [
    "# SDTSIA 211 : TP Recommender systems\n",
    "\n",
    "Mona Mokart"
   ]
  },
  {
   "cell_type": "markdown",
   "metadata": {},
   "source": [
    "## Fonctions and importations\n"
   ]
  },
  {
   "cell_type": "code",
   "execution_count": 1,
   "metadata": {},
   "outputs": [],
   "source": [
    "import numpy as np\n",
    "from scipy import sparse\n",
    "import matplotlib.pyplot as plt\n",
    "\n",
    "def load_movielens(filename, minidata=False):\n",
    "    \"\"\"\n",
    "    Cette fonction lit le fichier filename de la base de donnees\n",
    "    Movielens, par exemple \n",
    "    filename = '~/datasets/ml-100k/u.data'\n",
    "    Elle retourne \n",
    "    R : une matrice utilisateur-item contenant les scores\n",
    "    mask : une matrice valant 1 si il y a un score et 0 sinon\n",
    "    \"\"\"\n",
    "\n",
    "    data = np.loadtxt(filename, dtype=int)\n",
    "\n",
    "    R = sparse.coo_matrix((data[:, 2], (data[:, 0]-1, data[:, 1]-1)),\n",
    "                          dtype=float)\n",
    "    R = R.toarray()  # not optimized for big data\n",
    "\n",
    "    # code la fonction 1_K\n",
    "    mask = sparse.coo_matrix((np.ones(data[:, 2].shape),\n",
    "                              (data[:, 0]-1, data[:, 1]-1)), dtype=bool )\n",
    "    mask = mask.toarray()  # not optimized for big data\n",
    "\n",
    "    if minidata is True:\n",
    "        R = R[0:100, 0:200].copy()\n",
    "        mask = mask[0:100, 0:200].copy()\n",
    "\n",
    "    return R, mask"
   ]
  },
  {
   "cell_type": "markdown",
   "metadata": {},
   "source": [
    "**========================================================================================================================**\n",
    "### Question 1.1"
   ]
  },
  {
   "cell_type": "code",
   "execution_count": 2,
   "metadata": {},
   "outputs": [],
   "source": [
    "R1,mask1 = load_movielens(\"ml-100k/u.data\")"
   ]
  },
  {
   "cell_type": "code",
   "execution_count": 3,
   "metadata": {},
   "outputs": [
    {
     "data": {
      "text/plain": [
       "(943, 1682)"
      ]
     },
     "execution_count": 3,
     "metadata": {},
     "output_type": "execute_result"
    }
   ],
   "source": [
    "R1.shape"
   ]
  },
  {
   "cell_type": "markdown",
   "metadata": {},
   "source": [
    "Test for minidata= True"
   ]
  },
  {
   "cell_type": "code",
   "execution_count": 4,
   "metadata": {},
   "outputs": [],
   "source": [
    "R2,mask2 = load_movielens(\"ml-100k/u.data\",True)"
   ]
  },
  {
   "cell_type": "code",
   "execution_count": 5,
   "metadata": {},
   "outputs": [
    {
     "data": {
      "text/plain": [
       "(100, 200)"
      ]
     },
     "execution_count": 5,
     "metadata": {},
     "output_type": "execute_result"
    }
   ],
   "source": [
    "R2.shape"
   ]
  },
  {
   "cell_type": "markdown",
   "metadata": {},
   "source": [
    "We notice that minidata crosses the R matrices and the mask in size (100,200), we study on the 100 first users and 200 first films."
   ]
  },
  {
   "cell_type": "markdown",
   "metadata": {},
   "source": [
    "**========================================================================================================================**\n",
    "\n",
    "### Question 1.2"
   ]
  },
  {
   "cell_type": "code",
   "execution_count": 7,
   "metadata": {},
   "outputs": [
    {
     "data": {
      "text/plain": [
       "100000.0"
      ]
     },
     "execution_count": 7,
     "metadata": {},
     "output_type": "execute_result"
    }
   ],
   "source": [
    "countmatrice = mask1.astype('float64')\n",
    "np.sum(countmatrice)"
   ]
  },
  {
   "cell_type": "markdown",
   "metadata": {},
   "source": [
    "There are 943 usuers and 1682 films and 100000 grades"
   ]
  },
  {
   "cell_type": "markdown",
   "metadata": {},
   "source": [
    "**========================================================================================================================**\n",
    "\n",
    "### Question 2.1"
   ]
  },
  {
   "cell_type": "markdown",
   "metadata": {},
   "source": [
    "$ g(P) = \\frac{1}{2}||1_K\\circ (R-Q^0P)||^2_F + \\frac{\\rho}{2} ||Q^0||^2_F +\\frac{\\rho}{2}||P||^2_F$\n",
    "\n",
    "$= \\frac{1}{2} \\sum_u\\sum_i 1_{K(u,i)}(R_{ui}-\\sum_f Q^0_{uf}P_{fi})^2 + \\frac{\\rho}{2} ||Q^0||^2_F + \\frac{\\rho}{2} \\sum_i \\sum_u P_{ui}^2$"
   ]
  },
  {
   "cell_type": "markdown",
   "metadata": {},
   "source": [
    "Gradient : \n",
    "$\\frac{\\partial g}{\\partial P_{kl}} = \\sum_u \\sum_i 1_{K(u,i)}\\delta_{il}(R_{ui}-\\sum_f Q^0_{uf}P_{fi})(-Q_{uk}^0) + \\rho P{kl}$\n",
    "\n",
    "\n",
    "$\\frac{\\partial g}{\\partial P_{kl}} = \\sum_u 1_{K(u,l)}(R_{ul}-\\sum_f Q^0_{uf}P_{fl})(-Q_{uk}^0) + \\rho P{kl}$\n",
    "\n",
    "$\\implies \\nabla g(P) = - (Q^0)^T(1_K\\circ(R- Q^0P)) +\\rho P$"
   ]
  },
  {
   "cell_type": "markdown",
   "metadata": {},
   "source": [
    "**========================================================================================================================**\n",
    "\n",
    "### Question 2.2"
   ]
  },
  {
   "cell_type": "code",
   "execution_count": 4,
   "metadata": {},
   "outputs": [],
   "source": [
    "\n",
    "def objective(P, Q0, R, mask, rho):\n",
    "    \"\"\"\n",
    "    La fonction objectif du probleme simplifie.\n",
    "    Prend en entree \n",
    "    P : la variable matricielle de taille C x I\n",
    "    Q0 : une matrice de taille U x C\n",
    "    R : une matrice de taille U x I\n",
    "    mask : une matrice 0-1 de taille U x I\n",
    "    rho : un reel positif ou nul\n",
    "\n",
    "    Sorties :\n",
    "    val : la valeur de la fonction\n",
    "    grad_P : le gradient par rapport a P\n",
    "    \"\"\"\n",
    "\n",
    "    tmp = (R - Q0.dot(P)) * mask\n",
    "    val = np.sum(tmp ** 2)/2. + rho/2. * (np.sum(Q0 ** 2) + np.sum(P ** 2))\n",
    "    grad_P =  (-(Q0.T).dot(tmp) +rho*P)\n",
    "    return val.copy(), grad_P.copy()"
   ]
  },
  {
   "cell_type": "code",
   "execution_count": 7,
   "metadata": {},
   "outputs": [],
   "source": [
    "from scipy.sparse import linalg\n",
    "u,s,vt=linalg.svds(R1,k=4)"
   ]
  },
  {
   "cell_type": "code",
   "execution_count": 8,
   "metadata": {},
   "outputs": [
    {
     "name": "stdout",
     "output_type": "stream",
     "text": [
      "[[ 2.55511347e+00  5.13441086e-01  7.73878335e+00 ... -1.51419184e-01\n",
      "   1.22846636e-02  2.77930288e-01]\n",
      " [-3.66873174e+00 -1.35718942e+01 -2.52859733e+00 ...  1.15949951e-01\n",
      "  -9.88378905e-02 -5.68629500e-02]\n",
      " [ 2.12714964e+01  1.71114543e+00  6.98904993e+00 ...  1.09578207e-01\n",
      "  -2.57325476e-02 -4.96748331e-02]\n",
      " [ 6.13606989e+01  2.24992343e+01  1.27481888e+01 ...  1.94487024e-02\n",
      "   2.11983433e-01  2.02878594e-01]]\n"
     ]
    }
   ],
   "source": [
    "Q0 = u\n",
    "P0 = vt\n",
    "rho=0.3\n",
    "g,grad = objective(P0, Q0, R1, mask1, rho)\n",
    "print(grad)"
   ]
  },
  {
   "cell_type": "code",
   "execution_count": 9,
   "metadata": {},
   "outputs": [],
   "source": [
    "#Check of the gradient \n",
    "from scipy.optimize import check_grad\n",
    "C=P0.shape[0]\n",
    "I=P0.shape[1]\n",
    "\n",
    "\n",
    "def func(P):\n",
    "    P2=np.reshape(P,(C,I))\n",
    "    g,grad=objective(P2, Q0, R1, mask1, 0.3)\n",
    "    return g\n",
    "\n",
    "\n",
    "def grad_func (P):\n",
    "    P2=np.reshape(P,(C,I))\n",
    "    g,grad=objective(P2, Q0, R1, mask1, 0.3)\n",
    "    return np.ravel(grad)"
   ]
  },
  {
   "cell_type": "code",
   "execution_count": 11,
   "metadata": {},
   "outputs": [
    {
     "name": "stdout",
     "output_type": "stream",
     "text": [
      "Error : 1.1700266977214362\n",
      "Normalized error : 0.0015909589213310487\n"
     ]
    }
   ],
   "source": [
    "error = check_grad(func, grad_func, np.ravel(P0))\n",
    "print(\"Error :\",error)\n",
    "print(\"Normalized error :\", error/(np.sum(grad_func(P0) ** 2)**0.5))"
   ]
  },
  {
   "cell_type": "markdown",
   "metadata": {},
   "source": [
    "**========================================================================================================================**\n",
    "\n",
    "### Question 2.3"
   ]
  },
  {
   "cell_type": "code",
   "execution_count": 12,
   "metadata": {},
   "outputs": [],
   "source": [
    "def gradient(g, P0, gamma, epsilon):\n",
    "    \"\"\"g is a function which return two vectors, the first is g(P,Q0) and the second is  the gradient of g(P,Q0)\"\"\"\n",
    "    pk=P0.copy()\n",
    "    k=0\n",
    "    d=np.sum(g(pk)[1] ** 2)**0.5 # ||grad_g(P,Q0)||\n",
    "    while d >epsilon:\n",
    "        pk= pk - gamma*g(pk)[1]\n",
    "        k+=1\n",
    "        d = np.sum(g(pk)[1] ** 2)**0.5\n",
    "    return pk, g(pk)[0],k"
   ]
  },
  {
   "cell_type": "markdown",
   "metadata": {},
   "source": [
    "**========================================================================================================================**\n",
    "\n",
    "### Question 2.4"
   ]
  },
  {
   "cell_type": "code",
   "execution_count": 14,
   "metadata": {},
   "outputs": [],
   "source": [
    "rho=0.3\n",
    "L0 = rho + np.sum(np.dot(Q0.T, Q0) ** 2)**0.5\n",
    "gamma = 1/L0\n",
    "epsilon=1\n",
    "p_star, min_g, iterations = gradient(lambda P : objective(P, Q0, R1, mask1, rho), P0, gamma, epsilon)\n",
    "relative_error = np.linalg.norm(R1 - Q0@p_star)/np.linalg.norm(R1)"
   ]
  },
  {
   "cell_type": "code",
   "execution_count": 19,
   "metadata": {},
   "outputs": [
    {
     "name": "stdout",
     "output_type": "stream",
     "text": [
      "The result for the value of the min of g(P,Q0) is :  369551.54991481925\n",
      "\n",
      "\n",
      "Minimizer P :  [[ 2.23284225e+00 -4.90664665e-01 -9.98919015e+00 ...  4.74987005e-01\n",
      "  -3.92212474e-02 -8.67808467e-01]\n",
      " [-4.53777371e+00  1.35365298e+01  2.56785789e+00 ... -3.63533351e-01\n",
      "   3.15394841e-01  1.77455812e-01]\n",
      " [-2.02978127e+01 -4.68180885e-01 -1.07452929e+01 ... -3.43502581e-01\n",
      "   8.21005494e-02  1.54999171e-01]\n",
      " [-5.76416726e+01 -2.77454348e+01 -1.98640643e+01 ... -6.09197523e-02\n",
      "  -6.75813808e-01 -6.32544121e-01]]\n",
      "\n",
      "\n",
      "Relative error : 0.8121916798396361\n"
     ]
    }
   ],
   "source": [
    "print(\"The result for the value of the min of g(P,Q0) is : \", min_g)\n",
    "print(\"\\n\\nMinimizer P : \",p_star)\n",
    "print(\"\\n\\nRelative error :\",relative_error)"
   ]
  },
  {
   "cell_type": "markdown",
   "metadata": {},
   "source": [
    "We have a relative error of 81% which is a lot, maybe with $\\rho$ lower we would have been closer to R"
   ]
  },
  {
   "cell_type": "markdown",
   "metadata": {},
   "source": [
    "**========================================================================================================================**\n",
    "\n",
    "### Question 2.5"
   ]
  },
  {
   "cell_type": "code",
   "execution_count": 18,
   "metadata": {},
   "outputs": [],
   "source": [
    "def find_new_gammaP(g,P,a,b): \n",
    "    \"\"\"find the gamma = ba**l such as :  g(P+,Q0)< g(Pk,Q0)-0.5ba**l||grad_g(Pk,QO)||²\"\"\"\n",
    "    gamma=b\n",
    "    while g(P - gamma*g(P)[1])[0]> g(P)[0]  - gamma*np.sum(g(P)[1] ** 2)/2:\n",
    "        gamma=gamma*a\n",
    "    return gamma\n",
    "\n",
    "def gradient_searchlineP(g, P0,epsilon,a,b):\n",
    "    pk=P0.copy()\n",
    "    k=0\n",
    "    d=np.sum(g(pk)[1] ** 2)**0.5\n",
    "    gamma=b/2\n",
    "    while d >epsilon:\n",
    "        b=2*gamma\n",
    "        gamma = find_new_gammaP(g,pk,a,b)\n",
    "        pk= pk - gamma*g(pk)[1]\n",
    "        k+=1\n",
    "        d = np.sum(g(pk)[1] ** 2)**0.5\n",
    "    return pk, g(pk)[0],k"
   ]
  },
  {
   "cell_type": "code",
   "execution_count": 19,
   "metadata": {},
   "outputs": [],
   "source": [
    "rho=0.3\n",
    "epsilon=1\n",
    "a=0.5\n",
    "b=1\n",
    "p_star2, min_g2, iterations2 = gradient_searchlineP(lambda P : objective(P, Q0, R1, mask1, rho), P0, epsilon,a,b)\n",
    "relative_error2 = np.linalg.norm(R1 - Q0@p_star2)/np.linalg.norm(R1)"
   ]
  },
  {
   "cell_type": "code",
   "execution_count": 20,
   "metadata": {},
   "outputs": [
    {
     "name": "stdout",
     "output_type": "stream",
     "text": [
      "The result for the value of the min of g(P,Q0) is :  369551.06050388445\n",
      "\n",
      "\n",
      " Minimizer P :  [[ 2.22795129e+00 -4.88567957e-01 -9.97192431e+00 ...  4.75383866e-01\n",
      "  -3.92298322e-02 -8.68665181e-01]\n",
      " [-4.53125514e+00  1.35259301e+01  2.55585707e+00 ... -3.63837001e-01\n",
      "   3.15463796e-01  1.77630956e-01]\n",
      " [-2.02965476e+01 -4.62917756e-01 -1.07466274e+01 ... -3.43789475e-01\n",
      "   8.21184930e-02  1.55152139e-01]\n",
      " [-5.76442343e+01 -2.77539771e+01 -1.98693242e+01 ... -6.09706102e-02\n",
      "  -6.75961260e-01 -6.33168148e-01]]\n",
      "\n",
      "\n",
      "Relative error : 0.8123468997661466\n"
     ]
    }
   ],
   "source": [
    "print(\"The result for the value of the min of g(P,Q0) is : \", min_g2)\n",
    "print(\"\\n\\n Minimizer P : \",p_star2)\n",
    "print(\"\\n\\nRelative error :\",relative_error2)"
   ]
  },
  {
   "cell_type": "markdown",
   "metadata": {},
   "source": [
    "We find a result which is almost the same than without line search"
   ]
  },
  {
   "cell_type": "markdown",
   "metadata": {},
   "source": [
    "### Question 3.1 \n",
    "\n",
    "We remarke that f is a polynomial of degree 4 :$ f(P,Q)  = \\frac{1}{2}||1_K\\circ (R-QP)||^2_F + \\frac{\\rho}{2} ||Q||^2_F +\\frac{\\rho}{2}||P||^2_F$ (double scalar product of the product of vectors P and Q)\n",
    "\n",
    "Then its gradient is a polynomial of degree 3 and its hessian matrix is polynomial of degree 2.\n",
    "\n",
    "A function is Lipschitz continous $\\iff$ it has bounded first derivative. \n",
    "\n",
    "Then here, $\\nabla f$ is not Lipschizt continuous since its first derivative, a polynomial function of degree 2 is not bounded \n",
    "\n",
    "\n"
   ]
  },
  {
   "cell_type": "markdown",
   "metadata": {},
   "source": [
    "**========================================================================================================================**\n",
    "\n",
    "### Question 3.2\n",
    "First we need to complete the function *total_objective* because we must take into account the gradient of g with respect to Q :\n",
    "\n",
    "$\\nabla g_2 (Q) = -(1_K\\circ((R-QP_0))P_0^T) + \\rho Q$"
   ]
  },
  {
   "cell_type": "code",
   "execution_count": 26,
   "metadata": {},
   "outputs": [],
   "source": [
    "def total_objective(P, Q, R, mask, rho):\n",
    "    \"\"\"\n",
    "    La fonction objectif du probleme complet.\n",
    "    Prend en entree \n",
    "    P : la variable matricielle de taille C x I\n",
    "    Q : la variable matricielle de taille U x C\n",
    "    R : une matrice de taille U x I\n",
    "    mask : une matrice 0-1 de taille U x I\n",
    "    rho : un reel positif ou nul\n",
    "\n",
    "    Sorties :\n",
    "    val : la valeur de la fonction\n",
    "    grad_P : le gradient par rapport a P\n",
    "    grad_Q : le gradient par rapport a Q\n",
    "    \"\"\"\n",
    "\n",
    "    tmp = (R - Q.dot(P)) * mask\n",
    "\n",
    "    val = np.sum(tmp ** 2)/2. + rho/2. * (np.sum(Q ** 2) + np.sum(P ** 2))\n",
    "\n",
    "    grad_P = (-(Q.T).dot(tmp) +rho*P)\n",
    "\n",
    "    grad_Q = (-tmp.dot(P.T) +rho*Q)\n",
    "\n",
    "    return val, grad_P, grad_Q\n",
    "\n",
    "\n",
    "def total_objective_vectorized(PQvec, R, mask, rho):\n",
    "    \"\"\"\n",
    "    Vectorisation de la fonction precedente de maniere a ne pas\n",
    "    recoder la fonction gradient\n",
    "    \"\"\"\n",
    "\n",
    "    # reconstruction de P et Q\n",
    "    n_items = R.shape[1]\n",
    "    n_users = R.shape[0]\n",
    "    F = PQvec.shape[0] // (n_items + n_users)\n",
    "    Pvec = PQvec[0:n_items*F]\n",
    "    Qvec = PQvec[n_items*F:]\n",
    "    P = np.reshape(Pvec, (F, n_items))\n",
    "    Q = np.reshape(Qvec, (n_users, F))\n",
    "\n",
    "    val, grad_P, grad_Q = total_objective(P, Q, R, mask, rho)\n",
    "    return val, np.concatenate([grad_P.ravel(), grad_Q.ravel()])\n"
   ]
  },
  {
   "cell_type": "markdown",
   "metadata": {},
   "source": [
    "Then we compute the gradient descent "
   ]
  },
  {
   "cell_type": "code",
   "execution_count": 22,
   "metadata": {},
   "outputs": [],
   "source": [
    "def find_new_gammaPQ(g,PQvec,a,b):\n",
    "    gamma=b\n",
    "    while g(PQvec - gamma*g(PQvec)[1])[0]> g(PQvec)[0]  - gamma*np.sum(g(PQvec)[1] ** 2)/2:\n",
    "        gamma=gamma*a\n",
    "    return gamma\n",
    "\n",
    "def gradient_searchlinePQ(g, PQvec0 ,epsilon,a,b):\n",
    "    PQvec=PQvec0.copy()\n",
    "    k=0\n",
    "    d=np.sum(g(PQvec)[1] ** 2)**0.5\n",
    "    gamma=b/2\n",
    "    while d >epsilon:\n",
    "        b=2*gamma\n",
    "        gamma = find_new_gammaPQ(g,PQvec,a,b)\n",
    "        PQvec= PQvec - gamma*g(PQvec)[1]\n",
    "        k+=1\n",
    "        d = np.sum(g(PQvec)[1] ** 2)**0.5\n",
    "    return PQvec, g(PQvec)[0],k"
   ]
  },
  {
   "cell_type": "code",
   "execution_count": 23,
   "metadata": {},
   "outputs": [
    {
     "name": "stdout",
     "output_type": "stream",
     "text": [
      "The result for the value of the min of g(P,Q) is :  36092.80541112954\n"
     ]
    }
   ],
   "source": [
    "rho=0.3\n",
    "epsilon=100\n",
    "a=0.5\n",
    "b=1\n",
    "Pvec0 = np.ravel(P0)\n",
    "Qvec0=np.ravel(Q0)\n",
    "PQvec0= np.concatenate([Pvec0,Qvec0])\n",
    "PQ_star, min_gPQ, iterationsPQ = gradient_searchlinePQ(lambda PQvec :total_objective_vectorized(PQvec, R1, mask1, rho) , PQvec0, epsilon,a,b)\n",
    "\n",
    "print(\"The result for the value of the min of g(P,Q) is : \", min_gPQ)"
   ]
  },
  {
   "cell_type": "markdown",
   "metadata": {},
   "source": [
    "It is a logical result since we obtain a value of g which is smaller than the output value of the gradient descent with P only and Q0 as a constant.\n",
    "\n"
   ]
  },
  {
   "cell_type": "code",
   "execution_count": 25,
   "metadata": {},
   "outputs": [
    {
     "name": "stdout",
     "output_type": "stream",
     "text": [
      "Relative error : 2.7919723459336208\n"
     ]
    }
   ],
   "source": [
    "n_items = R1.shape[1]\n",
    "n_users = R1.shape[0]\n",
    "F = PQ_star.shape[0] // (n_items + n_users)\n",
    "P_starvec = PQ_star[0:n_items*F]\n",
    "Q_starvec = PQ_star[n_items*F:]\n",
    "\n",
    "P_star = np.reshape(P_starvec, (F, n_items))\n",
    "Q_star= np.reshape(Q_starvec, (n_users, F))\n",
    "R_star = Q_star.dot(P_star)\n",
    "\n",
    "relative_error3 = np.linalg.norm(R_star-R1)/np.linalg.norm(R1)\n",
    "print(\"Relative error :\",relative_error3 )"
   ]
  },
  {
   "cell_type": "markdown",
   "metadata": {},
   "source": [
    "We find a relative error of 279%, so even if we reached a value of g(P,Q) lower than with Q0 fixed, we have a value of $\\hat{R}$ less close to R\n"
   ]
  },
  {
   "cell_type": "markdown",
   "metadata": {},
   "source": [
    "**Interpretation :**\n",
    "\n",
    "This algorithm minimizes this function: $\\frac{1}{2}||1_K\\circ (R-QP)||^2_F + \\frac{\\rho}{2} ||Q||^2_F +\\frac{\\rho}{2}||P||^2_F$ i.e. finds P and Q (with a regularization parameter) such that PQ is $\\approx$ R for the values of R which are non-zero. We thus obtain a result $\\hat{R}$ which is $\\approx$ R for the non-zero values of R and other values which correspond to a prediction of the grades for the movies that the users have not watched. \n",
    "\n",
    "P and Q are matrices of respective sizes (U,C) and (C,I). U = number of users, I = number of items (film) and C corresponds to a number of criteria. Each film would have a certain value for criteria 0, 1, 2 or 3. Each user too."
   ]
  },
  {
   "cell_type": "markdown",
   "metadata": {},
   "source": [
    "**========================================================================================================================**\n",
    "\n",
    "### Question 3.3\n",
    "\n",
    "To find the film to be recommended for user 300 we have to calculate $\\hat{R}$ and look at the values $\\hat{R}_{i,j}$ such that $R_{i,j} = 0$, i.e. the predicted ratings for films not watched. Then we are interested in line 300 and we choose the argmax of this vector (= the id number of the film which has the best note in prediction for the user 300).\n"
   ]
  },
  {
   "cell_type": "code",
   "execution_count": 46,
   "metadata": {},
   "outputs": [],
   "source": [
    "r_mask=1-mask1 #r_mask for \"recommendation mask\"\n",
    "r_R = R_star*r_mask #Recommendation matrix\n",
    "User_300 = r_R[300]\n",
    "recommanded_film = np.argmax(User_300)\n",
    "best_grade_film=np.argwhere(R1[300]==5)"
   ]
  },
  {
   "cell_type": "code",
   "execution_count": 83,
   "metadata": {},
   "outputs": [
    {
     "name": "stdout",
     "output_type": "stream",
     "text": [
      "I recommend the film number 312 for user 300\n",
      "The 32  highest rated films (5/5) by user 300 are :\n",
      "42\n",
      "49\n",
      "63\n",
      "68\n",
      "78\n",
      "81\n",
      "94\n",
      "95\n",
      "99\n",
      "108\n",
      "116\n",
      "127\n",
      "171\n",
      "173\n",
      "180\n",
      "181\n",
      "194\n",
      "196\n",
      "201\n",
      "203\n",
      "214\n",
      "225\n",
      "268\n",
      "317\n",
      "356\n",
      "383\n",
      "454\n",
      "495\n",
      "587\n",
      "650\n",
      "692\n",
      "1027\n"
     ]
    }
   ],
   "source": [
    "print(\"I recommend the film number\",recommanded_film,\"for user 300\") \n",
    "print(\"The\",len(best_grade_film),\" highest rated films (5/5) by user 300 are :\")\n",
    "for val in best_grade_film:\n",
    "    print(val[0])"
   ]
  },
  {
   "cell_type": "markdown",
   "metadata": {},
   "source": [
    "Let's take a look at what film 312 and films 42,49,63 and 68 look like. They should look alike\n",
    "\n",
    "**Recommended film :**"
   ]
  },
  {
   "cell_type": "code",
   "execution_count": 79,
   "metadata": {},
   "outputs": [
    {
     "data": {
      "text/plain": [
       "Text(0.5, 1.0, 'Predicted grades for user 300')"
      ]
     },
     "execution_count": 79,
     "metadata": {},
     "output_type": "execute_result"
    },
    {
     "data": {
      "image/png": "[encoded data removed]",
      "text/plain": [
       "<Figure size 1080x360 with 2 Axes>"
      ]
     },
     "metadata": {
      "needs_background": "light"
     },
     "output_type": "display_data"
    }
   ],
   "source": [
    "\n",
    "X=range(1682)\n",
    "\n",
    "fig  = plt.figure(3, figsize=(15, 5))\n",
    "axis=fig.add_subplot(1, 2, 1)\n",
    "axis.bar(range(4),P_star[:,recommanded_film],color='purple')\n",
    "axis.set_title(\"Film 312\")\n",
    "axis=fig.add_subplot(1, 2, 2)\n",
    "axis.bar(X,User_300)\n",
    "axis.set_title(\"Predicted grades for user 300\")"
   ]
  },
  {
   "cell_type": "markdown",
   "metadata": {},
   "source": [
    "**Highest rated films by user 300 :**"
   ]
  },
  {
   "cell_type": "code",
   "execution_count": 75,
   "metadata": {
    "scrolled": true
   },
   "outputs": [
    {
     "data": {
      "text/plain": [
       "Text(0.5, 1.0, 'Film 68')"
      ]
     },
     "execution_count": 75,
     "metadata": {},
     "output_type": "execute_result"
    },
    {
     "data": {
      "image/png": "[encoded data removed]",
      "text/plain": [
       "<Figure size 1440x288 with 4 Axes>"
      ]
     },
     "metadata": {
      "needs_background": "light"
     },
     "output_type": "display_data"
    }
   ],
   "source": [
    "fig  = plt.figure(4, figsize=(20, 4))\n",
    "axis=fig.add_subplot(1, 4, 1)\n",
    "axis.bar(range(4),P_star[:,42],color='c')\n",
    "axis.set_title(\"Film 42\")\n",
    "axis=fig.add_subplot(1, 4, 2)\n",
    "axis.bar(range(4),P_star[:,49],color='c')\n",
    "axis.set_title(\"Film 49\")\n",
    "axis=fig.add_subplot(1, 4, 3)\n",
    "axis.bar(range(4),P_star[:,63],color='c')\n",
    "axis.set_title(\"Film 63\")\n",
    "axis=fig.add_subplot(1, 4, 4)\n",
    "axis.bar(range(4),P_star[:,68],color='c')\n",
    "axis.set_title(\"Film 68\")"
   ]
  },
  {
   "cell_type": "markdown",
   "metadata": {},
   "source": [
    "We notice that user 300 chooses films with high criterion 3 (close to 2), this can be a clue to predict the films that he likes. We can see that the recommended film is worth about 2 for criterion 3, so the reasoning is logical. Moreover, in general we can see that the values of the criteria for film 312 look like those of the top rated films."
   ]
  },
  {
   "cell_type": "markdown",
   "metadata": {},
   "source": [
    "\n"
   ]
  },
  {
   "cell_type": "markdown",
   "metadata": {},
   "source": [
    "\n",
    "\n",
    "\n",
    "\n",
    "\n",
    "\n",
    "**Lowest rated films (grade 1/5):**"
   ]
  },
  {
   "cell_type": "code",
   "execution_count": 49,
   "metadata": {},
   "outputs": [
    {
     "name": "stdout",
     "output_type": "stream",
     "text": [
      "[[  52]\n",
      " [ 110]\n",
      " [ 154]\n",
      " [ 272]\n",
      " [ 275]\n",
      " [ 394]\n",
      " [ 410]\n",
      " [ 422]\n",
      " [ 630]\n",
      " [ 654]\n",
      " [1051]\n",
      " [1229]]\n"
     ]
    }
   ],
   "source": [
    "worst_grade_film=np.argwhere(R1[300]==1)\n",
    "print(worst_grade_film)"
   ]
  },
  {
   "cell_type": "code",
   "execution_count": 47,
   "metadata": {},
   "outputs": [
    {
     "data": {
      "text/plain": [
       "Text(0.5, 1.0, 'Film 272')"
      ]
     },
     "execution_count": 47,
     "metadata": {},
     "output_type": "execute_result"
    },
    {
     "data": {
      "image/png": "[encoded data removed]",
      "text/plain": [
       "<Figure size 1440x288 with 4 Axes>"
      ]
     },
     "metadata": {
      "needs_background": "light"
     },
     "output_type": "display_data"
    }
   ],
   "source": [
    "fig  = plt.figure(4, figsize=(20, 4))\n",
    "axis=fig.add_subplot(1, 4, 1)\n",
    "axis.bar(range(4),P_star[:,52],color='gray')\n",
    "axis.set_title(\"Film 52\")\n",
    "axis=fig.add_subplot(1, 4, 2)\n",
    "axis.bar(range(4),P_star[:,110],color='gray')\n",
    "axis.set_title(\"Film 110\")\n",
    "axis=fig.add_subplot(1, 4, 3)\n",
    "axis.bar(range(4),P_star[:,154],color='gray')\n",
    "axis.set_title(\"Film 154\")\n",
    "axis=fig.add_subplot(1, 4, 4)\n",
    "axis.bar(range(4),P_star[:,272],color='gray')\n",
    "axis.set_title(\"Film 272\")"
   ]
  },
  {
   "cell_type": "markdown",
   "metadata": {},
   "source": [
    "They look very different from the recommended film 312"
   ]
  }
 ],
 "metadata": {
  "kernelspec": {
   "display_name": "Python 3",
   "language": "python",
   "name": "python3"
  },
  "language_info": {
   "codemirror_mode": {
    "name": "ipython",
    "version": 3
   },
   "file_extension": ".py",
   "mimetype": "text/x-python",
   "name": "python",
   "nbconvert_exporter": "python",
   "pygments_lexer": "ipython3",
   "version": "3.8.3"
  }
 },
 "nbformat": 4,
 "nbformat_minor": 4
}
