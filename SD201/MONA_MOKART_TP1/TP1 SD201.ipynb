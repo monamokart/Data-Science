{
 "cells": [
  {
   "cell_type": "markdown",
   "metadata": {},
   "source": [
    "# 1 Practicing with Python"
   ]
  },
  {
   "cell_type": "code",
   "execution_count": 1,
   "metadata": {},
   "outputs": [
    {
     "name": "stdout",
     "output_type": "stream",
     "text": [
      "[0, 1, 2, 3] [0, 1, 4, 9]\n"
     ]
    }
   ],
   "source": [
    "L = [i for i in range (4)]\n",
    "M =[l**2 for l in L]\n",
    "print (L, M)"
   ]
  },
  {
   "cell_type": "code",
   "execution_count": 18,
   "metadata": {},
   "outputs": [],
   "source": [
    "def listeven (L):\n",
    "    M =[]\n",
    "    for element in L:\n",
    "        if int(element)%2 == 0:\n",
    "            M.append(element)\n",
    "    return M"
   ]
  },
  {
   "cell_type": "code",
   "execution_count": 19,
   "metadata": {},
   "outputs": [
    {
     "data": {
      "text/plain": [
       "[2, 4]"
      ]
     },
     "execution_count": 19,
     "metadata": {},
     "output_type": "execute_result"
    }
   ],
   "source": [
    "L = [1,2,3,4]\n",
    "listeven(L)"
   ]
  },
  {
   "cell_type": "code",
   "execution_count": 1,
   "metadata": {},
   "outputs": [],
   "source": [
    " def filetolist(file):\n",
    "    list=[]\n",
    "    f=open(file, \"r\")\n",
    "    for l in f:\n",
    "        a, b = [chiffres for chiffres in l.split()]\n",
    "        list.append(int(a))\n",
    "        list.append(int(b))\n",
    "    return list"
   ]
  },
  {
   "cell_type": "code",
   "execution_count": 2,
   "metadata": {},
   "outputs": [
    {
     "data": {
      "text/plain": [
       "[1, 2, 1, 5, 2, 3, 3, 4, 4, 1, 5, 6, 6, 1]"
      ]
     },
     "execution_count": 2,
     "metadata": {},
     "output_type": "execute_result"
    }
   ],
   "source": [
    "filetolist('graph.txt')"
   ]
  },
  {
   "cell_type": "markdown",
   "metadata": {},
   "source": [
    "# 2 Implementing PageRank in Python\n",
    "## Question 1"
   ]
  },
  {
   "cell_type": "code",
   "execution_count": 4,
   "metadata": {},
   "outputs": [],
   "source": [
    "def step6(M,pi,beta): #step6 in the pseudo-code which represents the product with the spars matrix\n",
    "    n = len(pi)\n",
    "    newpi=[0]*n\n",
    "    for element in M:\n",
    "        newpi[element[1]-1]= newpi[element[1]-1] + beta*pi[element[0]-1]*element[2]\n",
    "    newpi = [val + (1-beta)/n for val in newpi]\n",
    "    return newpi"
   ]
  },
  {
   "cell_type": "code",
   "execution_count": 5,
   "metadata": {},
   "outputs": [],
   "source": [
    "def norm1(u,v): #function which calculates the Norme1 of the difference of two vectors\n",
    "    norm=0\n",
    "    n=len(u)\n",
    "    for i in range (n):\n",
    "        norm += abs(u[i]-v[i])\n",
    "    return norm"
   ]
  },
  {
   "cell_type": "code",
   "execution_count": 6,
   "metadata": {},
   "outputs": [],
   "source": [
    "def PageRank(G, beta, epsilon):\n",
    "    M=[]\n",
    "    newG = filetolist(G)\n",
    "    n= max(newG)\n",
    "    out=[0]*n\n",
    "    for k in range(0,len(newG),2):\n",
    "        out[newG[k]-1]= out[newG[k]-1]+1  #for each node i, out[i] is the number of links which start at node i and go out \n",
    "        \n",
    "    for k in range (0,len(newG),2):\n",
    "        M.append([newG[k],newG[k+1],1/out[newG[k]-1]])\n",
    "    pi= [1/n]*n\n",
    "    d=epsilon +1\n",
    "    while d >epsilon:\n",
    "        pi2 = step6(M,pi,beta)\n",
    "        d = norm1(pi,pi2)\n",
    "        pi= pi2\n",
    "    return pi       \n",
    "        "
   ]
  },
  {
   "cell_type": "code",
   "execution_count": 7,
   "metadata": {},
   "outputs": [
    {
     "data": {
      "text/plain": [
       "[0.2708333333333333,\n",
       " 0.13541666666666666,\n",
       " 0.15625,\n",
       " 0.14583333333333331,\n",
       " 0.13541666666666666,\n",
       " 0.15625]"
      ]
     },
     "execution_count": 7,
     "metadata": {},
     "output_type": "execute_result"
    }
   ],
   "source": [
    "PageRank('graph.txt',1, 0.1)"
   ]
  },
  {
   "cell_type": "code",
   "execution_count": 8,
   "metadata": {},
   "outputs": [
    {
     "data": {
      "text/plain": [
       "[0.2573333333333333,\n",
       " 0.13626666666666665,\n",
       " 0.15599999999999997,\n",
       " 0.1581333333333333,\n",
       " 0.13626666666666665,\n",
       " 0.15599999999999997]"
      ]
     },
     "execution_count": 8,
     "metadata": {},
     "output_type": "execute_result"
    }
   ],
   "source": [
    "PageRank('graph.txt',0.8, 0.1)"
   ]
  },
  {
   "cell_type": "markdown",
   "metadata": {},
   "source": [
    "## Question2"
   ]
  },
  {
   "cell_type": "code",
   "execution_count": 14,
   "metadata": {},
   "outputs": [],
   "source": [
    "import re\n",
    "from os import listdir\n",
    "\n",
    "webpages = [page for page in listdir(\"./toyset/\")]\n",
    "n = len(webpages)\n",
    "\n",
    "def noduplication(list): #deletes the duplicates of a list\n",
    "    list.sort()\n",
    "    L1= list\n",
    "    nb=0\n",
    "    for i in range(len(L1) - 1):\n",
    "        if L1[i]==L1[i+1]:\n",
    "            list[i+1]=\"double\"\n",
    "            nb+=1\n",
    "    for j in range(nb):\n",
    "        list.remove(\"double\")\n",
    "    return list\n",
    "\n",
    "    \n",
    "def findnode(list,link):  #takes in input the list of the webpages and a link(string-html) and returns the number id of the link corresponding with the webpages list\n",
    "    for i in range(len(list)):\n",
    "        if list[i]==link:\n",
    "            return i+1\n",
    "    print('no such link')\n",
    "    return(False)\n",
    "\n",
    "G=[]\n",
    "for i in range(n):\n",
    "    file=open(\"./toyset/\"+webpages[i],encoding=\"utf-8\")\n",
    "    links =re.findall(r'(?<=<a href=\")[^\"]*',file.read())\n",
    "    links = noduplication(links)\n",
    "    for element in links:\n",
    "        G.append(i+1)        #creating the new graph\n",
    "        G.append(findnode(webpages,element))\n",
    "        \n",
    "        \n",
    "def PageRankWeb(G, beta, epsilon, webpages):\n",
    "    M=[]\n",
    "    n= max(G)\n",
    "    out=[0]*n\n",
    "    for k in range(0,len(G),2):\n",
    "        out[G[k]-1]= out[G[k]-1]+1\n",
    "        \n",
    "    for k in range (0,len(G),2):\n",
    "        M.append([G[k],G[k+1],1/out[G[k]-1]])\n",
    "    pi= [1/n]*n\n",
    "    d=epsilon +1\n",
    "    while d >epsilon:\n",
    "        pi2 = step6(M,pi,beta)\n",
    "        d = norm1(pi,pi2)\n",
    "        pi= pi2\n",
    "    finalpi=[]\n",
    "    for i in range(n):\n",
    "        finalpi.append([webpages[i],pi[i]])\n",
    "        \n",
    "    return finalpi\n",
    "    "
   ]
  },
  {
   "cell_type": "code",
   "execution_count": 15,
   "metadata": {},
   "outputs": [
    {
     "data": {
      "text/plain": [
       "[['Assembly_language.html', 0.039363279068561706],\n",
       " ['Binary_file.html', 0.003153231122273867],\n",
       " ['Boolean_data_type.html', 0.008453407164023666],\n",
       " ['Bytecode.html', 0.01236321340553738],\n",
       " ['C++.html', 0.042185420628864004],\n",
       " ['COBOL.html', 0.021970111392456613],\n",
       " ['Comparison_of_programming_languages.html', 0.01593980925777072],\n",
       " ['Compiler.html', 0.036256211955509515],\n",
       " ['Computer.html', 0.016618360838705354],\n",
       " ['Computer_hardware.html', 0.02053607943360792],\n",
       " ['Computer_memory.html', 0.012306309049138884],\n",
       " ['Computer_program.html', 0.0170490816345754],\n",
       " ['Computer_science.html', 0.02014876007787668],\n",
       " ['Control_flow.html', 0.007203835782917499],\n",
       " ['C_(programming_language).html', 0.06266311416696635],\n",
       " ['Database.html', 0.008713442774597503],\n",
       " ['Data_(computing).html', 0.006315707450830635],\n",
       " ['Data_type.html', 0.01712670194620787],\n",
       " ['Dynamic_programming_language.html', 0.011054299863579444],\n",
       " ['Executable.html', 0.010474283791754717],\n",
       " ['Fortran.html', 0.024371979197328947],\n",
       " ['GNU_Compiler_Collection.html', 0.0157042301226719],\n",
       " ['High-level_programming_language.html', 0.020668601788813204],\n",
       " ['Imperative_programming.html', 0.023394321508870147],\n",
       " ['Instruction_set.html', 0.013545350138586536],\n",
       " ['Integer_(computer_science).html', 0.008622362590948502],\n",
       " ['JavaScript.html', 0.026208457114508015],\n",
       " ['Java_(programming_language).html', 0.04347892226287619],\n",
       " ['Kernel_(computing).html', 0.0037935564185585685],\n",
       " ['Lexical_scope.html', 0.0010494437775935245],\n",
       " ['Linux.html', 0.021325104774689456],\n",
       " ['Lisp_(programming_language).html', 0.02668533038274672],\n",
       " ['List_of_programming_languages.html', 0.014494662784753212],\n",
       " ['Logic_programming.html', 0.01094234753632316],\n",
       " ['Low-level_programming_language.html', 0.013258120041783818],\n",
       " ['Memory_address.html', 0.006396383387635585],\n",
       " ['Method_(computer_programming).html', 0.0045149993596497635],\n",
       " ['Object-oriented_programming.html', 0.032384326167058414],\n",
       " ['Object_(computer_science).html', 0.015218117615302692],\n",
       " ['Operating_system.html', 0.03865209079155354],\n",
       " ['Pointer_(computer_programming).html', 0.014450640201866052],\n",
       " ['Porting.html', 0.008008456855482054],\n",
       " ['Programming_language.html', 0.050554043444843155],\n",
       " ['Program_(machine).html', 0.0018137154101675853],\n",
       " ['Python_(programming_language).html', 0.0335982561538114],\n",
       " ['Scripting_language.html', 0.014154225028898666],\n",
       " ['Snowball_programming_language.html', 0.0010312063371033717],\n",
       " ['Software.html', 0.012139049698587194],\n",
       " ['Software_portability.html', 0.010549438314471072],\n",
       " ['Source_code.html', 0.017683085627743032],\n",
       " ['Strong_and_weak_typing.html', 0.003727259758105155],\n",
       " ['Subroutine.html', 0.016152413359888797],\n",
       " ['Type_system.html', 0.020889425729032133],\n",
       " ['Unix.html', 0.02055368476861638],\n",
       " ['Virtual_machine.html', 0.02009173074337625]]"
      ]
     },
     "execution_count": 15,
     "metadata": {},
     "output_type": "execute_result"
    }
   ],
   "source": [
    "PageRankWeb(G,1,0.1, webpages)"
   ]
  },
  {
   "cell_type": "markdown",
   "metadata": {},
   "source": [
    "## Question 3"
   ]
  },
  {
   "cell_type": "code",
   "execution_count": 12,
   "metadata": {},
   "outputs": [],
   "source": [
    "def isok(newG,out): #checks if the graph has no dead-end\n",
    "    for k in range (0,len(newG),2):\n",
    "        if out[newG[k+1]-1]==0:\n",
    "            return False\n",
    "    return True\n",
    "\n",
    "\n",
    "\n",
    "def nodeadends(newG):  \n",
    "    n= max(newG)\n",
    "    out=[0]*n\n",
    "    for k in range(0,len(newG),2):\n",
    "        out[newG[k]-1]= out[newG[k]-1]+1\n",
    "        \n",
    "    if isok(newG,out):\n",
    "        return newG\n",
    "    else:\n",
    "        nb=0\n",
    "        for k in range (0, len(newG),2):\n",
    "            if out[newG[k+1]-1]==0:\n",
    "                newG[k]='de'\n",
    "                newG[k+1]='de'\n",
    "                nb+=2\n",
    "        for k in range (nb):\n",
    "            newG.remove('de')\n",
    "        return nodeadends(newG)   #recursivity \n",
    "        "
   ]
  },
  {
   "cell_type": "code",
   "execution_count": 13,
   "metadata": {},
   "outputs": [
    {
     "data": {
      "text/plain": [
       "[1, 2, 2, 3, 3, 4, 4, 1]"
      ]
     },
     "execution_count": 13,
     "metadata": {},
     "output_type": "execute_result"
    }
   ],
   "source": [
    "newG = filetolist('testde.txt')   \n",
    "nodeadends (newG)"
   ]
  },
  {
   "cell_type": "code",
   "execution_count": null,
   "metadata": {},
   "outputs": [],
   "source": []
  }
 ],
 "metadata": {
  "kernelspec": {
   "display_name": "Python 3",
   "language": "python",
   "name": "python3"
  },
  "language_info": {
   "codemirror_mode": {
    "name": "ipython",
    "version": 3
   },
   "file_extension": ".py",
   "mimetype": "text/x-python",
   "name": "python",
   "nbconvert_exporter": "python",
   "pygments_lexer": "ipython3",
   "version": "3.8.3"
  }
 },
 "nbformat": 4,
 "nbformat_minor": 4
}
