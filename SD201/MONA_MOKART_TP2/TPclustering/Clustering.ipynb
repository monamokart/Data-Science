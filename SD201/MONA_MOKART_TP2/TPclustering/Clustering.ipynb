{
 "cells": [
  {
   "cell_type": "markdown",
   "metadata": {},
   "source": [
    "# K-Means Clustering \n",
    "\n",
    " [here](http://scikit-learn.org/stable/modules/generated/sklearn.cluster.KMeans.html#sklearn.cluster.KMeans.fit)"
   ]
  },
  {
   "cell_type": "code",
   "execution_count": 8,
   "metadata": {},
   "outputs": [],
   "source": [
    "from sklearn.cluster import KMeans"
   ]
  },
  {
   "cell_type": "markdown",
   "metadata": {},
   "source": [
    "# Question 1"
   ]
  },
  {
   "cell_type": "code",
   "execution_count": 14,
   "metadata": {},
   "outputs": [],
   "source": [
    "\n",
    "def filetoarray(file):\n",
    "    list=[]\n",
    "    f=open(file, \"r\")\n",
    "    nbl=0\n",
    "    for line in f:\n",
    "        datas = [data for data in line.split(\",\")]\n",
    "        list.append(datas)\n",
    "        del list[nbl][0]\n",
    "        nbl+=1\n",
    "    del list[0]\n",
    "    arraylist = np.array(list, dtype='float32')\n",
    "    return arraylist"
   ]
  },
  {
   "cell_type": "code",
   "execution_count": 15,
   "metadata": {},
   "outputs": [
    {
     "name": "stdout",
     "output_type": "stream",
     "text": [
      "[[ -4.7557      4.00509     3.58155    -0.395257    0.768624    1.12594\n",
      "   -0.237274   -1.91728     0.706794    0.957592   -0.0206825   6.34668\n",
      "   -2.82923     1.68118    -4.10586     4.63801     1.46898     2.74809\n",
      "   -0.0228676   1.87709    -0.70247     2.44804    -3.13752    -1.13863\n",
      "   -0.0651749]\n",
      " [ -3.2019      5.65488    -1.44928     0.693878    0.574788    1.50561\n",
      "   -1.42566     0.467675   -2.90853     0.0558659  -3.65062     0.99398\n",
      "   -2.76886    -1.29434    -3.80463     0.93633     0.122649    3.74037\n",
      "   -0.92452     4.33917     3.06093     4.88284    -0.0691085  -0.353045\n",
      "    1.15721  ]\n",
      " [ -0.55384     1.92791     0.529256    1.80451     2.05676    -0.869652\n",
      "   -3.18936     3.37173     3.67084    -4.0242     -0.9911     -0.853207\n",
      "   -1.21903    -6.0285     -3.45091     2.06707     1.0505      3.03001\n",
      "    1.43723     2.81148     3.47363    -0.512765    2.89227    -0.83293\n",
      "    0.903809 ]\n",
      " [  0.431862    3.48494    -1.72414    -1.84332     0.304692   -1.12285\n",
      "   -3.83964     0.0530786  -3.76193    -2.23312    -0.0669344 -15.4229\n",
      "   -5.73566     0.285551   -3.49608     1.2894      3.76249     0.35545\n",
      "   -1.18153    -0.346021    5.35117     2.54279    -0.480513   -3.70793\n",
      "   -2.35627  ]\n",
      " [  3.81916     1.97522     0.          1.99593     1.56522    -0.919448\n",
      "   -1.00992     2.8288     -0.357277   -2.21811     4.9697      3.72482\n",
      "   -1.0338     -3.17263    -5.43437     3.10559    -0.18018     3.00295\n",
      "   -0.645518    0.557621    4.74576    -0.579421   -1.60146    -3.69494\n",
      "   -2.38239  ]\n",
      " [ -2.73973     0.418535    1.1194      0.829346   -0.629111    1.65094\n",
      "    5.13709     0.782524   -1.65027     0.443599    0.610643   -1.66774\n",
      "   -0.821837    1.42857    -1.98333     1.39114    -0.126143    2.01711\n",
      "   -0.754243    1.55945     2.16181    -1.79471     3.22266     3.19432\n",
      "   -0.191022 ]\n",
      " [  3.20354     5.64811    -1.45461     3.26821     3.25765    -1.01104\n",
      "   -2.55408     2.22093     2.40764    -3.28757     3.64805     3.93495\n",
      "   -3.45137    -5.07571    -4.99013     0.858277   -3.45495     3.63705\n",
      "    0.311526    2.04864     3.59929    -0.688705   -2.72745    -4.0343\n",
      "   -1.49745  ]\n",
      " [ -4.5614     -0.324675   -2.60723    -0.372578    1.91805    -1.92837\n",
      "   -5.03704    -0.13541    -1.54278     1.41044    -0.661001    1.79187\n",
      "   -3.39893    -0.404531   -4.97051     7.62174     0.597015   -2.22399\n",
      "   -1.05116    -6.05634     4.23049     2.88809    -1.25174    -2.85016\n",
      "   -5.50398  ]\n",
      " [  2.15023     1.9153     -0.295223    2.75107    -0.217687    0.794777\n",
      "    0.264901    0.853759    0.279799   -0.774979    1.83876     0.247934\n",
      "   -1.06832    -2.73937    -3.46789    -2.98222    -2.10226    -1.83511\n",
      "    0.0554631   1.71849     1.87991    -0.36051    -0.745033   -0.0536481\n",
      "   -1.21538  ]\n",
      " [ -0.963597    1.40845    -1.88301    -0.701481    2.27179     1.97562\n",
      "   -3.13097    -0.514706   -2.70694    -1.72216     0.537857   -1.97842\n",
      "   -0.83682    -0.269854   -4.24679     0.35461     2.43615     1.67331\n",
      "   -2.77257     1.74742     0.          1.96078    -0.85885    -2.9845\n",
      "   -0.497159 ]\n",
      " [  2.43855     1.74769     0.206113    1.68998    -0.593472    0.\n",
      "    1.69481     0.401998   -3.27004     0.513614    0.836897   -0.140176\n",
      "   -0.958971   -1.8709     -2.01259     2.04082    -0.225033    2.21088\n",
      "   -0.326435    2.87998     3.02802     0.489097   -0.788653    0.908605\n",
      "    3.79122  ]\n",
      " [  0.658256   -1.22308     0.981194    0.266951    0.          3.19785\n",
      "    1.92256     2.69549    -2.49187    -0.322061    2.30388     1.84783\n",
      "   -3.06979    -1.20192    -4.28413     5.0644     -0.0533618   0.265252\n",
      "    0.188425    3.11381    -0.888769   -2.32955    -5.64885     0.216626\n",
      "    1.50125  ]\n",
      " [ -1.99294     1.79499     0.581677   -0.787219    0.899149   -1.52731\n",
      "   -0.574713    0.85668    -3.30675    -1.37836    -0.713342    6.39706\n",
      "   -1.73558    -0.943179   -6.01432     0.717765   -2.58922     3.17305\n",
      "    1.23199     3.64206     4.27766     4.531       0.280177   -4.15512\n",
      "    1.71487  ]\n",
      " [ -2.57967     2.88523     1.0501      1.6372     -0.898204    0.0618716\n",
      "    3.48275    -0.771605   -0.720839   -0.822581   -2.97628     1.2197\n",
      "   -1.00979     0.0459841  -1.35685     1.75466    -0.434293   -0.628239\n",
      "   -1.22611    -0.131234   -1.14996     0.170834   -1.39652     2.97243\n",
      "    0.39604  ]\n",
      " [  1.63831     0.354191   -4.35294     1.98482     3.25815    -3.72793\n",
      "   -8.52713    -0.632547    1.00313    -3.31725     3.81731     0.230814\n",
      "   -4.0201     -0.694847   -4.8416     -4.42849     2.87026     3.72861\n",
      "   -1.36823     4.33455     5.93325     3.79267    -1.76678    -0.34965\n",
      "   -2.47066  ]\n",
      " [  2.0447      8.32943    -0.428816   -3.5225     -3.09773    -1.11993\n",
      "   -1.59442     2.35784    -3.5334     -3.78054     0.0471921   0.0919963\n",
      "   -1.92661     0.999131   -3.20713     1.78658     1.1622      9.88223\n",
      "   -0.873563    2.36181     0.603248   -1.66587    -0.410023    1.21055\n",
      "   -0.998573 ]\n",
      " [ -2.52731    -1.68047   -10.4975     -3.39463     3.87858    -0.370054\n",
      "   -1.10538     0.454076    0.0242072  -2.72727     0.316183    1.94928\n",
      "   -2.05613     0.294913   -3.13841     3.09853     0.123001    2.57758\n",
      "   -1.04505     1.62485     4.44836     6.79773   -10.2796     -0.931601\n",
      "    2.36238  ]\n",
      " [  2.36505     2.57463    -0.575436   -0.344102   -0.364299   -0.1701\n",
      "    1.92234     0.217155   -1.58548     0.631458   -0.550285   -0.677724\n",
      "   -2.1166     -0.108932   -2.22303     2.16216     0.439686    0.941974\n",
      "    0.618357    1.19853    -0.744021   -0.2766     -3.82828     1.36438\n",
      "    1.12502  ]\n",
      " [  1.35474     1.53923    -1.15869     2.67542     0.621118    0.983069\n",
      "   -0.988142   -0.32543    -3.55711    -0.196078   -2.01745     2.6962\n",
      "   -2.08445    -3.33333    -4.36992     1.12843    -2.60492     0.91047\n",
      "   -2.7685      0.355691    2.13612    -0.3245     -0.287356   -0.400601\n",
      "    4.00421  ]\n",
      " [ -3.40829     1.46723     0.          5.51344     0.935484    1.61823\n",
      "   -0.325203    0.598592   -1.34181     1.82469    -0.717547    1.78763\n",
      "   -0.687398   -1.07595    -2.63659    -0.385424   -0.0975927   0.854701\n",
      "   -1.16814     0.278067    2.00584    -2.7965     -0.670904    0.673077\n",
      "   -0.770578 ]\n",
      " [ -2.70668     6.67656     0.          1.62876    -1.25443     1.02769\n",
      "    2.46437    -0.363967   -1.81538    -0.818182   -2.09691     0.394657\n",
      "   -0.70028    -0.137212   -1.56636    -8.13204     0.989802   -0.467836\n",
      "    2.67081     1.49579    -1.20156     2.92091    -1.70992     2.68624\n",
      "   -0.498973 ]\n",
      " [ -0.981997    5.11278    -0.71977    -0.195886    2.14739     0.896414\n",
      "   -0.0973236   1.96599     3.75321    -0.86558    -0.049776   -2.28334\n",
      "   -3.41018    -2.79092    -0.761905    0.658617   -0.437956   -2.60827\n",
      "    3.7467      0.147638    6.10225     3.61582    -0.105932    1.89966\n",
      "    0.0544959]\n",
      " [  1.45776     2.96552    -1.08524     1.87463    -0.0925819   1.98987\n",
      "   -1.82353    -0.0705302  -0.718355   -2.10767    -0.0355619   2.83645\n",
      "   -0.277342   -0.910807   -4.32184     1.03488    -0.992295    5.44794\n",
      "   -0.86145     2.73063     0.880196   -0.138906   -1.38396     0.112511\n",
      "    1.16044  ]\n",
      " [  0.177552    1.95851     1.68287     0.97782     3.00424    -1.225\n",
      "   -1.93136     3.04878    -1.00404    -4.33364    -2.37762    -0.754943\n",
      "   -1.42098    -6.14075    -2.52161     3.60708     2.0057      3.91048\n",
      "   -0.919995    2.13754     4.2042      2.53663     0.435448   -2.578\n",
      "    1.52976  ]\n",
      " [  1.21509     3.19635    -0.431862    1.04925    -0.356333   -2.02977\n",
      "   -0.0835422   3.53501    -0.701214   -0.641242   -1.54594     2.91347\n",
      "   -3.48818    -0.204531   -1.24294     2.84262    -0.417851    3.37154\n",
      "   -0.704698    0.924025    2.86687    -4.92066    -1.65016    -1.42338\n",
      "    0.695716 ]\n",
      " [ -1.48197     2.19485     0.372353    0.542299    0.919811   -1.18673\n",
      "   -4.48936     4.34783     0.704535    0.263043   -2.49383     4.06704\n",
      "   -0.121655   -1.95908    -3.86216     3.79015     1.56114     0.926135\n",
      "   -2.75582    -0.907519    0.405314    1.48837    -1.10169    -3.57542\n",
      "    0.599733 ]\n",
      " [ -1.3064      1.50356     2.34958     0.582396    0.110389    2.59853\n",
      "    1.61523     0.0788747  -4.08673     0.458235   -0.58309     2.71145\n",
      "   -0.297767    0.382653   -1.93596    -0.255892   -0.35382     0.0260112\n",
      "    2.03999     2.38095     0.338753   -3.54086    -1.98815     1.61087\n",
      "    0.482251 ]\n",
      " [ -1.04979    -0.721118    0.293686    3.09816    -1.59787     0.798771\n",
      "    1.13011     1.38213    -2.54896    -0.780772   -0.673092    1.43609\n",
      "   -0.183178   -1.26919    -2.10636     0.685805    0.0743826   0.458783\n",
      "    1.62069     3.31063     0.385109   -4.49302     1.49937     1.97427\n",
      "   -0.696092 ]\n",
      " [ -1.98408     3.514      -2.07243     0.768232    1.27858     0.702216\n",
      "   -0.822737    1.35194    -2.44491    -1.04774    -0.579742    4.11705\n",
      "    0.387254   -2.0291     -3.56194     2.80047     0.58265     2.15358\n",
      "    0.31556     2.21558     0.409417   -0.599424   -2.67443     0.745016\n",
      "    1.65073  ]\n",
      " [ -4.07609     3.25216    -1.08417     0.8647      2.42368    -0.0452352\n",
      "    1.71313     0.692042   -1.54648    -2.2917     -1.54358    -0.295664\n",
      "    0.333991   -0.986044   -1.81251     0.417402   -0.0672269   5.98842\n",
      "    1.88553     0.528379    1.13032    -0.0479004  -1.71391     2.31915\n",
      "    0.723356 ]]\n"
     ]
    }
   ],
   "source": [
    "X=filetoarray('data.csv')\n",
    "print(X)\n"
   ]
  },
  {
   "cell_type": "markdown",
   "metadata": {},
   "source": [
    "Calcul de SSE:"
   ]
  },
  {
   "cell_type": "code",
   "execution_count": 16,
   "metadata": {},
   "outputs": [
    {
     "data": {
      "text/plain": [
       "1536.3185925937453"
      ]
     },
     "execution_count": 16,
     "metadata": {},
     "output_type": "execute_result"
    }
   ],
   "source": [
    "kmeans = KMeans(n_clusters=8, max_iter=10000, n_init=100).fit(X) #default =kmeans++\n",
    "\n",
    "\n",
    "def dist2(u,v): #distance squared\n",
    "    n=len(u)\n",
    "    s=0\n",
    "    for l in range(n):\n",
    "        s+=(v[l]-u[l])**2\n",
    "    return s\n",
    "\n",
    "def SSE(kmeans):\n",
    "    n= len(kmeans.labels_)\n",
    "    centroids = kmeans.cluster_centers_\n",
    "    k=len(centroids)\n",
    "    SSE=0\n",
    "    for i in range (k):\n",
    "        clusteri=[]\n",
    "        for j in range(n):\n",
    "            if kmeans.labels_[j]==[i]:\n",
    "                clusteri.append(j)\n",
    "        for val in clusteri:\n",
    "            SSE+=dist(centroids[i],X[val])\n",
    "    return SSE\n",
    "\n",
    "SSE(kmeans)\n",
    "        "
   ]
  },
  {
   "cell_type": "markdown",
   "metadata": {},
   "source": [
    "# Question 2"
   ]
  },
  {
   "cell_type": "markdown",
   "metadata": {},
   "source": [
    "### init = random or kmean++"
   ]
  },
  {
   "cell_type": "code",
   "execution_count": 87,
   "metadata": {},
   "outputs": [
    {
     "name": "stdout",
     "output_type": "stream",
     "text": [
      "Avec init= kmean++ : \n",
      "\n",
      "[1572.104411823364, 1572.104411823364, 1572.104411823364, 1572.104411823364, 1572.104411823364]\n",
      "\n",
      "Avec init= random: \n",
      "\n",
      "[1645.83491937297, 1592.735031143988, 1611.8216372778193, 1612.9023223742997, 1590.5856391941245]\n",
      "\n",
      "moyenne avec kmean ++ : 1572.104411823364\n",
      "moyenne avec random : 1610.7759098726403\n"
     ]
    }
   ],
   "source": [
    "from statistics import mean\n",
    "kmeanpp=[]\n",
    "kmeanrand=[]\n",
    "\n",
    "print('Avec init= kmean++ : \\n')\n",
    "for i in range(5):\n",
    "    kmeans = KMeans(n_clusters=8, max_iter=10000, n_init=100).fit(X) #with default=’k-means++’\n",
    "    kmeanpp.append(SSE(kmeans2))\n",
    "print(kmeanpp)\n",
    "    \n",
    "print('\\nAvec init= random: \\n')\n",
    "for i in range(5) : \n",
    "    kmeans2 = KMeans(init='random', n_clusters=8, max_iter=10000, n_init=100).fit(X)\n",
    "    kmeanrand.append(SSE(kmeans2))\n",
    "print(kmeanrand)\n",
    "    \n",
    "print('\\nmoyenne avec kmean ++ :',mean(kmeanpp))\n",
    "print('moyenne avec random :',mean(kmeanrand))"
   ]
  },
  {
   "cell_type": "markdown",
   "metadata": {},
   "source": [
    "In the documentation we could reed that kmeans++ \"selects initial cluster centers for k-mean clustering in a smart way to speed up convergence\"\n",
    "\n",
    "So it seems logical that for the same number of iterations we observe a better SSE for the kmeans++ mode than the random mode.\n",
    "\n",
    "Indeed on average we notice that the SSE for the kmeans++ mode is more reliable than for the random mode."
   ]
  },
  {
   "cell_type": "markdown",
   "metadata": {},
   "source": [
    "### n_init :"
   ]
  },
  {
   "cell_type": "code",
   "execution_count": 90,
   "metadata": {},
   "outputs": [
    {
     "name": "stdout",
     "output_type": "stream",
     "text": [
      "[1658.8976340240927, 1566.527473167296, 1629.183836625553, 1520.0954127853618, 1536.2388121783897, 1520.0683443864602, 1508.4341097512956, 1508.434109751296, 1510.0178081785077, 1508.4341097512956]\n"
     ]
    }
   ],
   "source": [
    "ninit=[1,5,10,50,100,500,1000,2500,5000,10000]\n",
    "SSElist=[]\n",
    "for val in ninit:\n",
    "    kmeans3= KMeans(n_clusters=8, max_iter=10000, n_init=val).fit(X)\n",
    "    SSElist.append(SSE(kmeans3))\n",
    "print(SSElist)"
   ]
  },
  {
   "cell_type": "markdown",
   "metadata": {},
   "source": [
    "The more centroids are recalculated, the better the cluster, so the SSE should be lower.\n",
    "\n",
    "So for n_init that grows we have a better (lower) loss. However from 1000 it seems to stagnate. So from a certain number it doesn't always improve the cluster.\n",
    "\n",
    "Later we will use init = kmean++ and n_init = 1000. \n"
   ]
  },
  {
   "cell_type": "markdown",
   "metadata": {},
   "source": [
    "# Question 3\n"
   ]
  },
  {
   "cell_type": "code",
   "execution_count": 17,
   "metadata": {},
   "outputs": [],
   "source": [
    "def filetoname(file):\n",
    "    list=[]\n",
    "    f=open(file, \"r\")\n",
    "    nbl=0\n",
    "    for line in f:\n",
    "        datas = [data for data in line.split(\",\")]\n",
    "        list.append(datas[0])\n",
    "        nbl+=1\n",
    "    del list[0]\n",
    "    arraylist = np.array(list)\n",
    "    return arraylist"
   ]
  },
  {
   "cell_type": "code",
   "execution_count": 18,
   "metadata": {},
   "outputs": [
    {
     "name": "stdout",
     "output_type": "stream",
     "text": [
      "['American Express' 'Boeing' 'Chevron' 'Cisco Systems' 'DuPont' 'Kraft'\n",
      " 'Caterpillar' 'Bank of America' 'Verizon' 'Microsoft' 'IBM'\n",
      " 'The Home Depot' 'Walt Disney' 'Procter & Gamble' 'Alcoa' 'Intel'\n",
      " 'Hewlett-Packard' 'Wal-Mart' 'General Electric' 'AT&T' 'Merck' 'Pfizer'\n",
      " 'United Technologies' 'ExxonMobil' 'Travelers' 'JPMorgan Chase'\n",
      " 'McDonalds' 'Coca-Cola' '3M' 'Johnson & Johnson']\n"
     ]
    }
   ],
   "source": [
    "names =filetoname('data.csv')\n",
    "print(names)"
   ]
  },
  {
   "cell_type": "code",
   "execution_count": 19,
   "metadata": {},
   "outputs": [],
   "source": [
    "kmeans= KMeans(n_clusters=8, max_iter=10000, n_init=1000).fit(X)"
   ]
  },
  {
   "cell_type": "code",
   "execution_count": 23,
   "metadata": {},
   "outputs": [
    {
     "name": "stdout",
     "output_type": "stream",
     "text": [
      "[['Hewlett-Packard'], ['American Express', 'Boeing', 'Microsoft', 'Walt Disney', 'Intel', 'General Electric', 'United Technologies', 'Travelers', 'JPMorgan Chase', '3M', 'Johnson & Johnson'], ['Cisco Systems'], ['Kraft', 'Verizon', 'IBM', 'The Home Depot', 'Procter & Gamble', 'Wal-Mart', 'AT&T', 'McDonalds', 'Coca-Cola'], ['DuPont', 'Caterpillar', 'Alcoa'], ['Bank of America'], ['Chevron', 'Pfizer', 'ExxonMobil'], ['Merck']]\n",
      "[1 1 6 2 4 3 4 5 3 1 3 3 1 3 4 1 0 3 1 3 7 6 1 6 1 1 3 3 1 1]\n"
     ]
    }
   ],
   "source": [
    "centroids = kmeans.cluster_centers_\n",
    "clusterlist=[]\n",
    "for i in range(len(centroids)):\n",
    "    clusteri=[]\n",
    "    for j, val in enumerate(kmeans.labels_):\n",
    "        if val == i:\n",
    "            clusteri.append(names[j])\n",
    "    clusterlist.append(clusteri)#creates the same cluster with the name of the companies\n",
    "print(clusterlist)\n",
    "print(kmeans.labels_)"
   ]
  },
  {
   "cell_type": "code",
   "execution_count": 31,
   "metadata": {},
   "outputs": [
    {
     "name": "stdout",
     "output_type": "stream",
     "text": [
      "{'Computing': ['Hewlett-Packard'], 'Finance & Technology': ['American Express', 'Boeing', 'Microsoft', 'Walt Disney', 'Intel', 'General Electric', 'United Technologies', 'Travelers', 'JPMorgan Chase', '3M', 'Johnson & Johnson'], 'Networks and servers': ['Cisco Systems'], 'Goods and Food Businesses': ['Kraft', 'Verizon', 'IBM', 'The Home Depot', 'Procter & Gamble', 'Wal-Mart', 'AT&T', 'McDonalds', 'Coca-Cola'], 'Machines and raw materials': ['DuPont', 'Caterpillar', 'Alcoa'], 'Banks': ['Bank of America'], 'Oil and pharmaceutical companies': ['Chevron', 'Pfizer', 'ExxonMobil'], 'German companies': ['Merck']}\n"
     ]
    }
   ],
   "source": [
    "mydict = dict() #does what is expected in the question3\n",
    "labels=['Computing','Finance & Technology','Networks and servers', 'Goods and Food Businesses',\n",
    "        'Machines and raw materials','Banks','Oil and pharmaceutical companies','German companies']\n",
    "for i in range(len(labels)):\n",
    "    mydict[labels[i]]=clusterlist[i]\n",
    "    \n",
    "print(mydict)\n"
   ]
  },
  {
   "cell_type": "markdown",
   "metadata": {},
   "source": [
    "Most of the time, the name of the cluster is logical. Sometimes I've done with the majority of the companies which are in the same cluster, so there are few companies which are not linked with the name of their cluster. "
   ]
  },
  {
   "cell_type": "code",
   "execution_count": null,
   "metadata": {},
   "outputs": [],
   "source": []
  }
 ],
 "metadata": {
  "kernelspec": {
   "display_name": "Python 3",
   "language": "python",
   "name": "python3"
  },
  "language_info": {
   "codemirror_mode": {
    "name": "ipython",
    "version": 3
   },
   "file_extension": ".py",
   "mimetype": "text/x-python",
   "name": "python",
   "nbconvert_exporter": "python",
   "pygments_lexer": "ipython3",
   "version": "3.8.3"
  },
  "varInspector": {
   "cols": {
    "lenName": 16,
    "lenType": 16,
    "lenVar": 40
   },
   "kernels_config": {
    "python": {
     "delete_cmd_postfix": "",
     "delete_cmd_prefix": "del ",
     "library": "var_list.py",
     "varRefreshCmd": "print(var_dic_list())"
    },
    "r": {
     "delete_cmd_postfix": ") ",
     "delete_cmd_prefix": "rm(",
     "library": "var_list.r",
     "varRefreshCmd": "cat(var_dic_list()) "
    }
   },
   "types_to_exclude": [
    "module",
    "function",
    "builtin_function_or_method",
    "instance",
    "_Feature"
   ],
   "window_display": false
  }
 },
 "nbformat": 4,
 "nbformat_minor": 2
}
